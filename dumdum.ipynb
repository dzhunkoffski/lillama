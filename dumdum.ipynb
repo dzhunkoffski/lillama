{
 "cells": [
  {
   "cell_type": "code",
   "execution_count": 1,
   "metadata": {},
   "outputs": [],
   "source": [
    "%load_ext autoreload\n",
    "%autoreload 2"
   ]
  },
  {
   "cell_type": "code",
   "execution_count": 2,
   "metadata": {},
   "outputs": [
    {
     "name": "stderr",
     "output_type": "stream",
     "text": [
      "/home/dzhunk/University/lillama/src/dataset/dataset.py:10: TqdmExperimentalWarning: Using `tqdm.autonotebook.tqdm` in notebook mode. Use `tqdm.tqdm` instead to force console mode (e.g. in jupyter console)\n",
      "  from tqdm.autonotebook import tqdm\n"
     ]
    }
   ],
   "source": [
    "from src.dataset.dataset import TextDataset\n",
    "import torch \n",
    "from torch import nn"
   ]
  },
  {
   "cell_type": "code",
   "execution_count": 3,
   "metadata": {},
   "outputs": [
    {
     "data": {
      "application/vnd.jupyter.widget-view+json": {
       "model_id": "dae1353ffb2c4560833dfc93978783a0",
       "version_major": 2,
       "version_minor": 0
      },
      "text/plain": [
       "0it [00:00, ?it/s]"
      ]
     },
     "metadata": {},
     "output_type": "display_data"
    },
    {
     "name": "stdout",
     "output_type": "stream",
     "text": [
      "created train data with size: 20869767\n"
     ]
    }
   ],
   "source": [
    "data = TextDataset(\n",
    "    corpus_path = 'data/corpus.txt',\n",
    "    json_path='data/tiny_stories',\n",
    "    save_tokenizer_to = 'bpe',\n",
    "    max_len = 300,\n",
    "    vocab_size = 15\n",
    ")\n",
    "print('created train data with size:', len(data))"
   ]
  },
  {
   "cell_type": "code",
   "execution_count": 4,
   "metadata": {},
   "outputs": [
    {
     "name": "stdout",
     "output_type": "stream",
     "text": [
      "19826279\n",
      "1043488\n"
     ]
    }
   ],
   "source": [
    "generator = torch.Generator().manual_seed(42)\n",
    "datasets = torch.utils.data.random_split(data, [0.95, 0.05], generator=generator)\n",
    "train_data = datasets[0]\n",
    "test_data = datasets[1]\n",
    "print(len(train_data))\n",
    "print(len(test_data))"
   ]
  },
  {
   "cell_type": "code",
   "execution_count": 5,
   "metadata": {},
   "outputs": [],
   "source": [
    "from torch.utils.data import DataLoader\n",
    "from src.model.language_model import LanguageModel\n",
    "from src.dataset.dataset import Collator\n",
    "from src.utils.trainer import CosineAnnealingWithWarmupLR\n",
    "\n",
    "collate_fn = Collator(pad_value=data.pad_id)\n",
    "train_loader = DataLoader(train_data, batch_size=768, shuffle=True, num_workers=4, collate_fn=collate_fn)\n",
    "test_loader = DataLoader(train_data, batch_size=768, shuffle=False, num_workers=4, collate_fn=collate_fn)\n",
    "\n",
    "DEVICE = torch.device(\"cuda\" if torch.cuda.is_available() else \"cpu\")\n",
    "\n",
    "model = LanguageModel(\n",
    "    embed_dim=32,\n",
    "    vocab_size=data.vocab_size,\n",
    "    max_len=data.max_len,\n",
    "    pad_idx=data.pad_id,\n",
    "    num_layers=2,\n",
    "    num_heads=2,\n",
    "    dropout=0,\n",
    "    feedforward_dim=32\n",
    ")\n",
    "model = model.to(DEVICE)\n",
    "optimizer = torch.optim.Adam(model.parameters(), lr=3e-4)\n",
    "criterion = nn.CrossEntropyLoss()\n",
    "# lr_scheduler = CosineAnnealingWithWarmupLR(optimizer=optimizer, warmup_steps=50, max_steps=200)"
   ]
  },
  {
   "cell_type": "code",
   "execution_count": 6,
   "metadata": {},
   "outputs": [
    {
     "name": "stdout",
     "output_type": "stream",
     "text": [
      "LanguageModel(\n",
      "  (transformer): TransformerDecoder(\n",
      "    (embedding): Embedding(15, 32, padding_idx=0)\n",
      "    (pos_encoder): PositionalEncoding()\n",
      "    (decoder): ModuleList(\n",
      "      (0-1): 2 x DecoderBlock(\n",
      "        (Q_proj): Linear(in_features=32, out_features=32, bias=True)\n",
      "        (K_proj): Linear(in_features=32, out_features=32, bias=True)\n",
      "        (V_proj): Linear(in_features=32, out_features=32, bias=True)\n",
      "        (masked_multihead_attention): MultiheadAttention(\n",
      "          (out_proj): NonDynamicallyQuantizableLinear(in_features=32, out_features=32, bias=True)\n",
      "        )\n",
      "        (lay_norm1): LayerNorm((32,), eps=1e-05, elementwise_affine=True)\n",
      "        (feedforward): Sequential(\n",
      "          (0): Linear(in_features=32, out_features=32, bias=True)\n",
      "          (1): ReLU()\n",
      "          (2): Linear(in_features=32, out_features=32, bias=True)\n",
      "        )\n",
      "        (dropout): Dropout(p=0, inplace=False)\n",
      "        (lay_norm2): LayerNorm((32,), eps=1e-05, elementwise_affine=True)\n",
      "      )\n",
      "    )\n",
      "  )\n",
      "  (linear): Linear(in_features=32, out_features=15, bias=True)\n",
      ")\n",
      "Trainable parameters: 20239\n"
     ]
    }
   ],
   "source": [
    "print(model)"
   ]
  },
  {
   "cell_type": "code",
   "execution_count": 7,
   "metadata": {},
   "outputs": [
    {
     "name": "stderr",
     "output_type": "stream",
     "text": [
      "Failed to detect the name of this notebook, you can set it manually with the WANDB_NOTEBOOK_NAME environment variable to enable code saving.\n"
     ]
    },
    {
     "name": "stderr",
     "output_type": "stream",
     "text": [
      "\u001b[34m\u001b[1mwandb\u001b[0m: Currently logged in as: \u001b[33mdzhunkoffski\u001b[0m. Use \u001b[1m`wandb login --relogin`\u001b[0m to force relogin\n"
     ]
    },
    {
     "data": {
      "text/html": [
       "Tracking run with wandb version 0.16.0"
      ],
      "text/plain": [
       "<IPython.core.display.HTML object>"
      ]
     },
     "metadata": {},
     "output_type": "display_data"
    },
    {
     "data": {
      "text/html": [
       "Run data is saved locally in <code>/home/dzhunk/University/lillama/wandb/run-20231128_234502-l9pj93ub</code>"
      ],
      "text/plain": [
       "<IPython.core.display.HTML object>"
      ]
     },
     "metadata": {},
     "output_type": "display_data"
    },
    {
     "data": {
      "text/html": [
       "Syncing run <strong><a href='https://wandb.ai/dzhunkoffski/little-lama/runs/l9pj93ub' target=\"_blank\">distinctive-galaxy-74</a></strong> to <a href='https://wandb.ai/dzhunkoffski/little-lama' target=\"_blank\">Weights & Biases</a> (<a href='https://wandb.me/run' target=\"_blank\">docs</a>)<br/>"
      ],
      "text/plain": [
       "<IPython.core.display.HTML object>"
      ]
     },
     "metadata": {},
     "output_type": "display_data"
    },
    {
     "data": {
      "text/html": [
       " View project at <a href='https://wandb.ai/dzhunkoffski/little-lama' target=\"_blank\">https://wandb.ai/dzhunkoffski/little-lama</a>"
      ],
      "text/plain": [
       "<IPython.core.display.HTML object>"
      ]
     },
     "metadata": {},
     "output_type": "display_data"
    },
    {
     "data": {
      "text/html": [
       " View run at <a href='https://wandb.ai/dzhunkoffski/little-lama/runs/l9pj93ub' target=\"_blank\">https://wandb.ai/dzhunkoffski/little-lama/runs/l9pj93ub</a>"
      ],
      "text/plain": [
       "<IPython.core.display.HTML object>"
      ]
     },
     "metadata": {},
     "output_type": "display_data"
    },
    {
     "name": "stdout",
     "output_type": "stream",
     "text": [
      "=== Epoch 1 ===\n"
     ]
    },
    {
     "ename": "",
     "evalue": "",
     "output_type": "error",
     "traceback": [
      "\u001b[1;31mThe Kernel crashed while executing code in the the current cell or a previous cell. Please review the code in the cell(s) to identify a possible cause of the failure. Click <a href='https://aka.ms/vscodeJupyterKernelCrash'>here</a> for more info. View Jupyter <a href='command:jupyter.viewOutput'>log</a> for further details."
     ]
    }
   ],
   "source": [
    "from src.utils.wandb_logger import WandbLogger\n",
    "from src.utils.trainer import train\n",
    "\n",
    "wdb = WandbLogger(\n",
    "    project_name=\"little-lama\",\n",
    "    config={\"loh\": \"loh\"}\n",
    ")\n",
    "train(\n",
    "    model, optimizer, criterion, train_loader, \n",
    "    train_loader, 100, DEVICE, wdb, \n",
    "    log_output = False, grad_clipping=10\n",
    ")"
   ]
  },
  {
   "cell_type": "markdown",
   "metadata": {},
   "source": [
    "итоговый ран из wandb"
   ]
  },
  {
   "cell_type": "code",
   "execution_count": null,
   "metadata": {},
   "outputs": [],
   "source": []
  }
 ],
 "metadata": {
  "kernelspec": {
   "display_name": ".venv",
   "language": "python",
   "name": "python3"
  },
  "language_info": {
   "codemirror_mode": {
    "name": "ipython",
    "version": 3
   },
   "file_extension": ".py",
   "mimetype": "text/x-python",
   "name": "python",
   "nbconvert_exporter": "python",
   "pygments_lexer": "ipython3",
   "version": "3.10.12"
  }
 },
 "nbformat": 4,
 "nbformat_minor": 2
}
